{
 "cells": [
  {
   "cell_type": "code",
   "execution_count": 2,
   "id": "dde02e8f-de9d-495f-a680-ee1745abc71c",
   "metadata": {},
   "outputs": [
    {
     "name": "stdin",
     "output_type": "stream",
     "text": [
      "Enter the URL to extract links from:  https://wilmu.instructure.com/courses/50335/discussion_topics/768686\n"
     ]
    },
    {
     "name": "stdout",
     "output_type": "stream",
     "text": [
      "0. html (2 links)\n",
      "1. head (0 links)\n",
      "2. meta (0 links)\n",
      "3. meta (0 links)\n",
      "4. meta (0 links)\n",
      "5. meta (0 links)\n",
      "6. meta (0 links)\n",
      "7. meta (0 links)\n",
      "8. meta (0 links)\n",
      "9. title (0 links)\n",
      "10. script (0 links)\n",
      "11. link (0 links)\n",
      "12. style (0 links)\n",
      "13. body (2 links)\n",
      "14. div (0 links)\n",
      "15. h1 (0 links)\n",
      "16. p (0 links)\n",
      "17. p (0 links)\n",
      "18. script (0 links)\n",
      "19. div (2 links)\n",
      "20. div (0 links)\n",
      "21. div (0 links)\n",
      "22. div (2 links)\n",
      "23. div (0 links)\n",
      "24. div (0 links)\n",
      "25. img (0 links)\n",
      "26. main (0 links)\n",
      "27. div (0 links)\n",
      "28. div (0 links)\n",
      "29. div (0 links)\n",
      "30. div (0 links)\n",
      "31. style (0 links)\n",
      "32. div (0 links)\n",
      "33. div (0 links)\n",
      "34. div (0 links)\n",
      "35. div (0 links)\n",
      "36. div (0 links)\n",
      "37. div (0 links)\n",
      "38. div (0 links)\n",
      "39. div (0 links)\n",
      "40. div (0 links)\n",
      "41. script (0 links)\n",
      "42. div (0 links)\n",
      "43. footer (2 links)\n",
      "44. div (2 links)\n",
      "45. div (2 links)\n",
      "46. span (0 links)\n",
      "47. a (0 links)\n",
      "48. a (0 links)\n",
      "49. script (0 links)\n"
     ]
    },
    {
     "name": "stdin",
     "output_type": "stream",
     "text": [
      "Enter the index of the container to scrape links from:  44\n"
     ]
    },
    {
     "name": "stdout",
     "output_type": "stream",
     "text": [
      "['https://www.wilmu.edu/', 'https://www.wilmu.edu/']\n",
      "Links saved to links.txt\n"
     ]
    }
   ],
   "source": [
    "import requests\n",
    "from bs4 import BeautifulSoup\n",
    "\n",
    "url = input(\"Enter the URL to extract links from: \")\n",
    "headers = {\n",
    "    'User-Agent': 'Mozilla/5.0 (Windows NT 10.0; Win64; x64) AppleWebKit/537.36 (KHTML, like Gecko) Chrome/58.0.3029.110 Safari/537.36'\n",
    "}\n",
    "\n",
    "try:\n",
    "    page = requests.get(url, headers=headers)\n",
    "    soup = BeautifulSoup(page.content, 'html.parser')\n",
    "\n",
    "    # list all the containers and let the user choose which one to scrape links from\n",
    "    containers = soup.find_all()\n",
    "    for i, container in enumerate(containers):\n",
    "        print(f\"{i}. {container.name} ({len(container.find_all('a'))} links)\")\n",
    "\n",
    "    container_index = int(input(\"Enter the index of the container to scrape links from: \"))\n",
    "    selected_container = containers[container_index]\n",
    "\n",
    "    # scrape links from the selected container\n",
    "    links = []\n",
    "    for link in selected_container.find_all('a'):\n",
    "        href = link.get('href')\n",
    "        if href and href.startswith('http'):\n",
    "            links.append(href)\n",
    "\n",
    "    print(links)\n",
    "\n",
    "    with open('links.txt', 'w') as f:\n",
    "        for link in links:\n",
    "            f.write(link + '\\n')\n",
    "    print(f\"Links saved to links.txt\")\n",
    "\n",
    "except requests.exceptions.RequestException as e:\n",
    "    print(\"Error: \", e)\n"
   ]
  },
  {
   "cell_type": "code",
   "execution_count": null,
   "id": "713a2d5d-2b9f-4971-a5e2-3c1cbb0b4544",
   "metadata": {},
   "outputs": [],
   "source": []
  }
 ],
 "metadata": {
  "kernelspec": {
   "display_name": "Python 3 (ipykernel)",
   "language": "python",
   "name": "python3"
  },
  "language_info": {
   "codemirror_mode": {
    "name": "ipython",
    "version": 3
   },
   "file_extension": ".py",
   "mimetype": "text/x-python",
   "name": "python",
   "nbconvert_exporter": "python",
   "pygments_lexer": "ipython3",
   "version": "3.9.13"
  }
 },
 "nbformat": 4,
 "nbformat_minor": 5
}
